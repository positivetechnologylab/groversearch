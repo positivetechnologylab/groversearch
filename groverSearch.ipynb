{
 "cells": [
  {
   "cell_type": "raw",
   "id": "d79ce295",
   "metadata": {},
   "source": [
    "To evaluate an expression using Grover's Search Algorithm, we need to input the variables as letters.\n",
    "\n",
    "For example, in the problem below, we use the letters A, B, and C to represent different variables.\n",
    "\n",
    "Use & for AND.\n",
    "Use ~ for NOT.\n",
    "\n",
    "After running, you will get a list of numbers, each with different values. Each number represents a different solution to the problem, and the number with the highest values represent the solutions to the problem.\n",
    "\n",
    "\n",
    "The expression '(A & B) & ~(B & C)' would give us the following:\n",
    "[{'101': 25, '110': 33, '100': 42, '001': 32, '010': 41, '000': 37, '111': 30, '011': 784}]\n",
    "The number 011 has the highest value and thus is the solution to our expression.\n",
    "\n",
    "\n",
    "\n",
    "Note that the numbers start from the right so should interpreted backward. In this case, the number '011' represents the solution NOT C, B, and A."
   ]
  },
  {
   "cell_type": "code",
   "execution_count": 28,
   "id": "6a0b3f4a",
   "metadata": {},
   "outputs": [
    {
     "name": "stdout",
     "output_type": "stream",
     "text": [
      "[{'101': 25, '110': 33, '100': 42, '001': 32, '010': 41, '000': 37, '111': 30, '011': 784}]\n"
     ]
    },
    {
     "name": "stderr",
     "output_type": "stream",
     "text": [
      "/var/folders/bb/3y86ymgs79s_yv56_hxkx5mh0000gn/T/ipykernel_58253/3652927640.py:9: DeprecationWarning: ``qiskit.algorithms.amplitude_amplifiers.grover.Grover.__init__()``'s argument ``quantum_instance`` is deprecated as of qiskit-terra 0.24.0. It will be removed no earlier than 3 months after the release date. Instead, use the ``sampler`` argument. See https://qisk.it/algo_migration for a migration guide.\n",
      "  grover = Grover(quantum_instance=backend)\n"
     ]
    }
   ],
   "source": [
    "from qiskit import *\n",
    "from qiskit.circuit.library import PhaseOracle\n",
    "from qiskit.algorithms import Grover, AmplificationProblem\n",
    "\n",
    "expression = '(A & B) & ~(B & C)' # change these variables to fit your problem\n",
    "oracle = PhaseOracle(expression)\n",
    "problem = AmplificationProblem(oracle=oracle, is_good_state=oracle.evaluate_bitstring)\n",
    "backend = Aer.get_backend('qasm_simulator')\n",
    "grover = Grover(quantum_instance=backend)\n",
    "result = grover.amplify(problem)\n",
    "print(result.circuit_results)"
   ]
  }
 ],
 "metadata": {
  "kernelspec": {
   "display_name": "Qiskit(stable)",
   "language": "python",
   "name": "qiskit-stable"
  },
  "language_info": {
   "codemirror_mode": {
    "name": "ipython",
    "version": 3
   },
   "file_extension": ".py",
   "mimetype": "text/x-python",
   "name": "python",
   "nbconvert_exporter": "python",
   "pygments_lexer": "ipython3",
   "version": "3.9.16"
  }
 },
 "nbformat": 4,
 "nbformat_minor": 5
}
