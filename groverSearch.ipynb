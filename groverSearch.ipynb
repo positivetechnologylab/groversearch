{
 "cells": [
  {
   "cell_type": "markdown",
   "id": "855b69f6-8368-41eb-b7ee-bb17206b7121",
   "metadata": {},
   "source": [
    "To evaluate an expression using Grover's Search Algorithm, we need to input the variables as letters. For example, in the problem below, we use the letters A, B, and C to represent different variables. Use & for AND. Use ~ for NOT. After running, you will get a list of numbers, each with different values. Each number represents a different solution to the problem, and the number with the highest values represent the solutions to the problem."
   ]
  },
  {
   "cell_type": "code",
   "execution_count": 2,
   "id": "5794ae08-fda2-4e03-892e-76abea249814",
   "metadata": {
    "tags": []
   },
   "outputs": [],
   "source": [
    "# Importing standard Qiskit libraries\n",
    "from qiskit import QuantumCircuit, transpile\n",
    "from qiskit.tools.jupyter import *\n",
    "from qiskit.visualization import *\n",
    "from ibm_quantum_widgets import *\n",
    "\n",
    "from qiskit_ibm_runtime import QiskitRuntimeService, Sampler, Estimator, Session, Options\n",
    "\n",
    "# Loading your IBM Quantum account(s)\n",
    "service = QiskitRuntimeService(channel=\"ibm_quantum\")"
   ]
  },
  {
   "cell_type": "code",
   "execution_count": 4,
   "id": "fed0c66d-330d-44ac-89f8-abfe08f6e2aa",
   "metadata": {
    "tags": []
   },
   "outputs": [
    {
     "name": "stdout",
     "output_type": "stream",
     "text": [
      "[{'000': 0.0312499999999999, '001': 0.0312499999999999, '010': 0.0312499999999999, '011': 0.7812499999999987, '100': 0.0312499999999999, '101': 0.0312499999999999, '110': 0.0312499999999999, '111': 0.0312499999999999}]\n"
     ]
    }
   ],
   "source": [
    "import numpy as np\n",
    "\n",
    "from qiskit import *\n",
    "from qiskit.circuit.library import PhaseOracle\n",
    "from qiskit.algorithms import Grover, AmplificationProblem\n",
    "from qiskit.primitives import Sampler\n",
    "\n",
    "\n",
    "\n",
    "expression = '(A & B) & ~(B & C)' # change these variables to fit your problem\n",
    "oracle = PhaseOracle(expression)\n",
    "problem = AmplificationProblem(oracle=oracle, is_good_state=oracle.evaluate_bitstring)\n",
    "backend = Aer.get_backend('qasm_simulator')\n",
    "grover = Grover(sampler=Sampler())\n",
    "result = grover.amplify(problem)\n",
    "print(result.circuit_results)"
   ]
  },
  {
   "cell_type": "markdown",
   "id": "5034dc3f-f821-4030-bc60-9190017f1095",
   "metadata": {},
   "source": [
    "\n",
    "\n",
    "The expression '(A & B) & ~(B & C)' gives us the following: {'000': 0.0312499999999999, '001': 0.0312499999999999, '010': 0.0312499999999999, '011': 0.7812499999999987, '100': 0.0312499999999999, '101': 0.0312499999999999, '110': 0.0312499999999999, '111': 0.0312499999999999} The number 011 has the highest value, 0.78, and thus is the solution to our expression. Note that the numbers start from the right so should interpreted backward. In this case, the number '011' represents the solution NOT C, B, and A."
   ]
  },
  {
   "cell_type": "markdown",
   "id": "fc9f9759-a528-494f-8829-0dc52e88c9a7",
   "metadata": {},
   "source": [
    "To try your own expression please find the jupyter notebook at https://github.com/positivetechnologylab/groversearch"
   ]
  }
 ],
 "metadata": {
  "kernelspec": {
   "display_name": "Python 3 (ipykernel)",
   "language": "python",
   "name": "python3"
  },
  "language_info": {
   "codemirror_mode": {
    "name": "ipython",
    "version": 3
   },
   "file_extension": ".py",
   "mimetype": "text/x-python",
   "name": "python",
   "nbconvert_exporter": "python",
   "pygments_lexer": "ipython3",
   "version": "3.10.8"
  },
  "widgets": {
   "application/vnd.jupyter.widget-state+json": {
    "state": {
     "128e1213ea134ed7bc46dd38eb06118b": {
      "model_module": "@jupyter-widgets/base",
      "model_module_version": "2.0.0",
      "model_name": "LayoutModel",
      "state": {
       "margin": "0px 0px 0px 37px",
       "width": "600px"
      }
     },
     "1bf562c054a243b2845b2cdc9448f2eb": {
      "model_module": "@jupyter-widgets/base",
      "model_module_version": "2.0.0",
      "model_name": "LayoutModel",
      "state": {
       "width": "70px"
      }
     },
     "2491711b84674621adce908066492ce2": {
      "model_module": "@jupyter-widgets/controls",
      "model_module_version": "2.0.0",
      "model_name": "HBoxModel",
      "state": {
       "children": [
        "IPY_MODEL_d9a9de3eee7a450488837e2788a475cf",
        "IPY_MODEL_c6badfaad1de44468dcdce71572acadf",
        "IPY_MODEL_a48f4ba07bad4fcdaf831a2e15dce6c0",
        "IPY_MODEL_c26e6518b4494a4e88d54fdc42c9a402",
        "IPY_MODEL_ccdace3cf63e4230b2199c71c810ac2e"
       ],
       "layout": "IPY_MODEL_128e1213ea134ed7bc46dd38eb06118b"
      }
     },
     "36023c5cb6964c129f884459485ea505": {
      "model_module": "@jupyter-widgets/base",
      "model_module_version": "2.0.0",
      "model_name": "LayoutModel",
      "state": {
       "grid_template_areas": "\n                                       \". . . . right \"\n                                        ",
       "grid_template_columns": "20% 20% 20% 20% 20%",
       "width": "100%"
      }
     },
     "40981699c9cb4f668ef4cd51e0240129": {
      "model_module": "@jupyter-widgets/controls",
      "model_module_version": "2.0.0",
      "model_name": "ButtonStyleModel",
      "state": {
       "font_family": null,
       "font_size": null,
       "font_style": null,
       "font_variant": null,
       "font_weight": null,
       "text_color": null,
       "text_decoration": null
      }
     },
     "42aba70385454406803e76ae9fb5a1dd": {
      "model_module": "@jupyter-widgets/base",
      "model_module_version": "2.0.0",
      "model_name": "LayoutModel",
      "state": {
       "width": "190px"
      }
     },
     "4a414dde3df14d0486ca84f76dfbecd5": {
      "model_module": "@jupyter-widgets/controls",
      "model_module_version": "2.0.0",
      "model_name": "HTMLStyleModel",
      "state": {
       "description_width": "",
       "font_size": null,
       "text_color": null
      }
     },
     "58d225d900dc4df5868f9b0a0922ce78": {
      "model_module": "@jupyter-widgets/base",
      "model_module_version": "2.0.0",
      "model_name": "LayoutModel",
      "state": {
       "width": "95px"
      }
     },
     "77077b6c518a4bcb94ccc7c1afc64bbc": {
      "model_module": "@jupyter-widgets/controls",
      "model_module_version": "2.0.0",
      "model_name": "HTMLStyleModel",
      "state": {
       "description_width": "",
       "font_size": null,
       "text_color": null
      }
     },
     "9e1ba9d2d83f451984e59891c8d3d174": {
      "model_module": "@jupyter-widgets/controls",
      "model_module_version": "2.0.0",
      "model_name": "HTMLModel",
      "state": {
       "layout": "IPY_MODEL_b7df61b8952c49aeb25c5eea05689527",
       "style": "IPY_MODEL_a77244b574ef4ddcaf33dcb130d2e0dc",
       "value": "<p style='font-family: IBM Plex Sans, Arial, Helvetica, sans-serif; font-size: 20px; font-weight: medium;'>Circuit Properties</p>"
      }
     },
     "a48f4ba07bad4fcdaf831a2e15dce6c0": {
      "model_module": "@jupyter-widgets/controls",
      "model_module_version": "2.0.0",
      "model_name": "HTMLModel",
      "state": {
       "layout": "IPY_MODEL_58d225d900dc4df5868f9b0a0922ce78",
       "style": "IPY_MODEL_b79e355f011d484d862b7e92d8e60c5e",
       "value": "<h5>Status</h5>"
      }
     },
     "a77244b574ef4ddcaf33dcb130d2e0dc": {
      "model_module": "@jupyter-widgets/controls",
      "model_module_version": "2.0.0",
      "model_name": "HTMLStyleModel",
      "state": {
       "description_width": "",
       "font_size": null,
       "text_color": null
      }
     },
     "b4a3e2d9f9d64ab5a82b3c5046e1367d": {
      "model_module": "@jupyter-widgets/controls",
      "model_module_version": "2.0.0",
      "model_name": "HTMLStyleModel",
      "state": {
       "description_width": "",
       "font_size": null,
       "text_color": null
      }
     },
     "b79e355f011d484d862b7e92d8e60c5e": {
      "model_module": "@jupyter-widgets/controls",
      "model_module_version": "2.0.0",
      "model_name": "HTMLStyleModel",
      "state": {
       "description_width": "",
       "font_size": null,
       "text_color": null
      }
     },
     "b7df61b8952c49aeb25c5eea05689527": {
      "model_module": "@jupyter-widgets/base",
      "model_module_version": "2.0.0",
      "model_name": "LayoutModel",
      "state": {
       "margin": "0px 0px 10px 0px"
      }
     },
     "bab84b1fedea473890b23fd2e05c03af": {
      "model_module": "@jupyter-widgets/base",
      "model_module_version": "2.0.0",
      "model_name": "LayoutModel",
      "state": {
       "width": "145px"
      }
     },
     "bc6a1a5eea464a14863eb761b9bd1b7f": {
      "model_module": "@jupyter-widgets/base",
      "model_module_version": "2.0.0",
      "model_name": "LayoutModel",
      "state": {
       "grid_area": "right",
       "padding": "0px 0px 0px 0px",
       "width": "70px"
      }
     },
     "c26e6518b4494a4e88d54fdc42c9a402": {
      "model_module": "@jupyter-widgets/controls",
      "model_module_version": "2.0.0",
      "model_name": "HTMLModel",
      "state": {
       "layout": "IPY_MODEL_1bf562c054a243b2845b2cdc9448f2eb",
       "style": "IPY_MODEL_b4a3e2d9f9d64ab5a82b3c5046e1367d",
       "value": "<h5>Queue</h5>"
      }
     },
     "c6badfaad1de44468dcdce71572acadf": {
      "model_module": "@jupyter-widgets/controls",
      "model_module_version": "2.0.0",
      "model_name": "HTMLModel",
      "state": {
       "layout": "IPY_MODEL_bab84b1fedea473890b23fd2e05c03af",
       "style": "IPY_MODEL_d695612c490945cfa05acbcf22c5ad0a",
       "value": "<h5>Backend</h5>"
      }
     },
     "ccdace3cf63e4230b2199c71c810ac2e": {
      "model_module": "@jupyter-widgets/controls",
      "model_module_version": "2.0.0",
      "model_name": "HTMLModel",
      "state": {
       "layout": "IPY_MODEL_ec6b36cb4bd0492887c238bfd596735b",
       "style": "IPY_MODEL_77077b6c518a4bcb94ccc7c1afc64bbc",
       "value": "<h5>Message</h5>"
      }
     },
     "d695612c490945cfa05acbcf22c5ad0a": {
      "model_module": "@jupyter-widgets/controls",
      "model_module_version": "2.0.0",
      "model_name": "HTMLStyleModel",
      "state": {
       "description_width": "",
       "font_size": null,
       "text_color": null
      }
     },
     "d8577f4b6872432b8ff0084a9abc4331": {
      "model_module": "@jupyter-widgets/controls",
      "model_module_version": "2.0.0",
      "model_name": "ButtonModel",
      "state": {
       "button_style": "primary",
       "description": "Clear",
       "layout": "IPY_MODEL_bc6a1a5eea464a14863eb761b9bd1b7f",
       "style": "IPY_MODEL_40981699c9cb4f668ef4cd51e0240129",
       "tooltip": null
      }
     },
     "d9a9de3eee7a450488837e2788a475cf": {
      "model_module": "@jupyter-widgets/controls",
      "model_module_version": "2.0.0",
      "model_name": "HTMLModel",
      "state": {
       "layout": "IPY_MODEL_42aba70385454406803e76ae9fb5a1dd",
       "style": "IPY_MODEL_4a414dde3df14d0486ca84f76dfbecd5",
       "value": "<h5>Job ID</h5>"
      }
     },
     "ec6b36cb4bd0492887c238bfd596735b": {
      "model_module": "@jupyter-widgets/base",
      "model_module_version": "2.0.0",
      "model_name": "LayoutModel",
      "state": {}
     },
     "edcbf38ec985464f865b1311fc8bc859": {
      "model_module": "@jupyter-widgets/controls",
      "model_module_version": "2.0.0",
      "model_name": "GridBoxModel",
      "state": {
       "children": [
        "IPY_MODEL_d8577f4b6872432b8ff0084a9abc4331"
       ],
       "layout": "IPY_MODEL_36023c5cb6964c129f884459485ea505"
      }
     }
    },
    "version_major": 2,
    "version_minor": 0
   }
  }
 },
 "nbformat": 4,
 "nbformat_minor": 5
}
